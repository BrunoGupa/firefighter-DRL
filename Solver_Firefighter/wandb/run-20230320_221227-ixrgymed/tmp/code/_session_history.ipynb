{
 "cells": [
  {
   "cell_type": "code",
   "execution_count": 1,
   "id": "e3150cc8",
   "metadata": {},
   "outputs": [],
   "source": [
    "print('PyDev console: using IPython 7.28.0\\n')\n",
    "\n",
    "import sys; print('Python %s on %s' % (sys.version, sys.platform))\n",
    "sys.path.extend(['/home/bruno/Documents/Firefighter_RL', '/home/bruno/Documents/Firefighter_RL/gym-cellular-automata'])"
   ]
  },
  {
   "cell_type": "code",
   "execution_count": 2,
   "id": "f72317a8",
   "metadata": {},
   "outputs": [
    {
     "data": {
      "text/plain": [
       "<IPython.core.display.HTML object>"
      ]
     },
     "metadata": {},
     "output_type": "display_data"
    },
    {
     "data": {
      "text/plain": [
       "<IPython.core.display.HTML object>"
      ]
     },
     "metadata": {},
     "output_type": "display_data"
    },
    {
     "data": {
      "text/plain": [
       "<IPython.core.display.HTML object>"
      ]
     },
     "metadata": {},
     "output_type": "display_data"
    },
    {
     "data": {
      "text/plain": [
       "<IPython.core.display.HTML object>"
      ]
     },
     "metadata": {},
     "output_type": "display_data"
    },
    {
     "data": {
      "text/plain": [
       "<IPython.core.display.HTML object>"
      ]
     },
     "metadata": {},
     "output_type": "display_data"
    }
   ],
   "source": [
    "runfile('/home/bruno/Documents/Firefighter_RL/Solver_Firefighter/main.py', wdir='/home/bruno/Documents/Firefighter_RL/Solver_Firefighter')"
   ]
  }
 ],
 "metadata": {
  "kernelspec": {
   "display_name": "Python 3",
   "language": "python",
   "name": "python3"
  },
  "language_info": {
   "name": "python",
   "version": "3.9.7 (default, Sep 16 2021, 13:09:58) \n[GCC 7.5.0]"
  }
 },
 "nbformat": 4,
 "nbformat_minor": 5
}
